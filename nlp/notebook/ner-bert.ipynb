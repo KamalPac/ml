{
 "cells": [
  {
   "cell_type": "code",
   "execution_count": 2,
   "id": "53d5fccb-3346-454b-87b8-f28bff9eadec",
   "metadata": {
    "tags": []
   },
   "outputs": [],
   "source": [
    "import sagemaker\n",
    "from sagemaker.huggingface import (\n",
    "    HuggingFaceModel    \n",
    ")"
   ]
  },
  {
   "cell_type": "code",
   "execution_count": 15,
   "id": "1b888586-0d99-4f3a-937b-84767669f844",
   "metadata": {
    "tags": []
   },
   "outputs": [],
   "source": [
    "role = sagemaker.get_execution_role()\n",
    "hub = {\n",
    "    'HF_MODEL_ID':'veronica320/QA-for-Event-Extraction',\n",
    "    'HF_TASK':'question-answering'}\n",
    "\n",
    "huggingface_model = HuggingFaceModel(\n",
    "    env=hub,                                                \n",
    "    role=role,                                              \n",
    "    transformers_version=\"4.6\",                             # Transformers version used\n",
    "    pytorch_version=\"1.7\",                                  # PyTorch version used\n",
    "    py_version='py36',                                      # Python version used\n",
    ")\n",
    "\n",
    "\n"
   ]
  },
  {
   "cell_type": "code",
   "execution_count": 16,
   "id": "e8f4d4b5-cac1-444a-aed2-cd43a4b4abce",
   "metadata": {
    "tags": []
   },
   "outputs": [
    {
     "name": "stdout",
     "output_type": "stream",
     "text": [
      "------!"
     ]
    }
   ],
   "source": [
    "encoder = huggingface_model.deploy(\n",
    "    initial_instance_count=1,\n",
    "    instance_type=\"ml.t2.large\",\n",
    "    endpoint_name=\"bertqa\"\n",
    ")"
   ]
  },
  {
   "cell_type": "code",
   "execution_count": 37,
   "id": "614b1c82-9854-4398-832d-ce59add326c6",
   "metadata": {
    "tags": []
   },
   "outputs": [],
   "source": [
    "out1 = encoder.predict({\"context\": \"PARENT-TEACHER CONFERENCE REMINDER - Springfield Elementary School Chicago Date: 11/25/2023. To the parent(s) of __Isabella__________________________________,Just a reminder that we have a parent-teacher conference scheduled for ________Robert Connor Family______________on _11/25/2023_____________________ at _____10:30______________ a.m./p.m.in room number __225__________. Our conference will run approximately ___30____ minutes long.Please contact the school t (____240___)__5891234___________________ if you are unable to make this scheduled appointment. I am looking forward to meeting with you and discussing your child’s progress.Your child’s teacher\", \"question\": \"when is the meeting\"})\n",
    "\n",
    "out2 = encoder.predict({\"context\": \"PARENT-TEACHER CONFERENCE REMINDER - Springfield Elementary School Chicago Date: 11/25/2023. To the parent(s) of __Isabella__________________________________,Just a reminder that we have a parent-teacher conference scheduled for ________Robert Connor Family______________on _11/25/2023_____________________ at _____10:30______________ a.m./p.m.in room number __225__________. Our conference will run approximately ___30____ minutes long.Please contact the school t (____240___)__5891234___________________ if you are unable to make this scheduled appointment. I am looking forward to meeting with you and discussing your child’s progress.Your child’s teacher\", \"question\": \"where is the meeting\"})"
   ]
  },
  {
   "cell_type": "code",
   "execution_count": 38,
   "id": "0a2639c7-7452-448e-aef6-36a7facac156",
   "metadata": {
    "tags": []
   },
   "outputs": [
    {
     "name": "stdout",
     "output_type": "stream",
     "text": [
      "{'score': 0.38873326778411865, 'start': 275, 'end': 285, 'answer': '11/25/2023'}\n",
      "{'score': 0.6068448424339294, 'start': 37, 'end': 74, 'answer': 'Springfield Elementary School Chicago'}\n"
     ]
    }
   ],
   "source": [
    "print (out1)\n",
    "print (out2)"
   ]
  },
  {
   "cell_type": "code",
   "execution_count": 25,
   "id": "483dccac-1c16-432f-9022-2b0669794707",
   "metadata": {
    "tags": []
   },
   "outputs": [],
   "source": [
    "out1 = encoder.predict({\"context\": \"PARENT-TEACHER CONFERENCE REMINDER - Springfield Elementary School Chicago Date: 11/25/2023. To the parent(s) of __Isabella__________________________________,Just a reminder that we have a parent-teacher conference scheduled for ________Robert Connor Family______________on _11/25/2023_____________________ at _____10:30______________ a.m./p.m.in room number __225__________. Our conference will run approximately ___30____ minutes long.Please contact the school t (____240___)__5891234___________________ if you are unable to make this scheduled appointment. I am looking forward to meeting with you and discussing your child’s progress.Your child’s teacher\", \"question\": \"is there a meeting in the given context\"})\n",
    "print (out1)"
   ]
  },
  {
   "cell_type": "code",
   "execution_count": 26,
   "id": "dc7d5cfe-2d2c-4677-bfb7-5d4ca2784571",
   "metadata": {
    "tags": []
   },
   "outputs": [
    {
     "name": "stdout",
     "output_type": "stream",
     "text": [
      "{'score': 0.00013135570043232292, 'start': 37, 'end': 66, 'answer': 'Springfield Elementary School'}\n"
     ]
    }
   ],
   "source": [
    "print (out1)"
   ]
  },
  {
   "cell_type": "code",
   "execution_count": 28,
   "id": "cfca3b66-675b-4357-9268-08e487dfc6cf",
   "metadata": {
    "tags": []
   },
   "outputs": [
    {
     "name": "stdout",
     "output_type": "stream",
     "text": [
      "{'score': 0.004302245564758778, 'start': 0, 'end': 21, 'answer': 'Hi how are you doing.'}\n"
     ]
    }
   ],
   "source": [
    "out1 = encoder.predict({\"context\": \"Hi how are you doing. Good to know you\", \"question\": \"when is the meeting\"})\n",
    "print (out1)"
   ]
  },
  {
   "cell_type": "code",
   "execution_count": 89,
   "id": "bb8ccb90-7051-40cc-a00c-fa8a7eacbc7f",
   "metadata": {
    "tags": []
   },
   "outputs": [
    {
     "name": "stdout",
     "output_type": "stream",
     "text": [
      "{\"inputs\": {\"question\": \"is there a meeting in the given context\", \"context\": \"PARENT-TEACHER CONFERENCE REMINDER - Springfield Elementary School Chicago Date: 11/25/2023. To the parent(s) of __Isabella__________________________________,Just a reminder that we have a parent-teacher conference scheduled for ________Robert Connor Family______________on _11/25/2023_____________________ at _____10:30______________ a.m./p.m.in room number __225__________. Our conference will run approximately ___30____ minutes long.Please contact the school t (____240___)__5891234___________________ if you are unable to make this scheduled appointment. I am looking forward to meeting with you and discussing your childs progress.Your child\\u2019s teacher\"}}\n",
      "{'score': 0.00031935962033458054, 'start': 37, 'end': 66, 'answer': 'Springfield Elementary School'}\n"
     ]
    }
   ],
   "source": [
    "import boto3\n",
    "import json\n",
    "\n",
    "client = boto3.client('sagemaker-runtime')\n",
    "\n",
    "endpoint_name = \"bertner\"                                       # Your endpoint name.\n",
    "content_type = \"application/json\"                                     # The MIME type of the input data in the request body.\n",
    "accept = \"application/json\"   \n",
    "input_data =  {\"inputs\":{\"question\": \"is there a meeting in the given context\",\"context\": \"PARENT-TEACHER CONFERENCE REMINDER - Springfield Elementary School Chicago Date: 11/25/2023. To the parent(s) of __Isabella__________________________________,Just a reminder that we have a parent-teacher conference scheduled for ________Robert Connor Family______________on _11/25/2023_____________________ at _____10:30______________ a.m./p.m.in room number __225__________. Our conference will run approximately ___30____ minutes long.Please contact the school t (____240___)__5891234___________________ if you are unable to make this scheduled appointment. I am looking forward to meeting with you and discussing your childs progress.Your child’s teacher\"}}\n",
    "    # The desired MIME type of the inference in the response.\n",
    "payload =json.dumps(input_data)\n",
    "print(payload)\n",
    "str(payload)\n",
    "out1 = encoder.predict(input_data)\n",
    "print (out1)\n",
    "type(payload)\n",
    "#type(input_data)\n"
   ]
  },
  {
   "cell_type": "code",
   "execution_count": null,
   "id": "6f9b0a8e-8460-4b43-9cc3-52894260e32d",
   "metadata": {
    "tags": []
   },
   "outputs": [],
   "source": [
    "response = client.invoke_endpoint(\n",
    "    EndpointName=endpoint_name, \n",
    "    CustomAttributes=\"\", \n",
    "    ContentType=content_type,\n",
    "    Accept=accept,\n",
    "    Body=payload\n",
    "    )"
   ]
  },
  {
   "cell_type": "code",
   "execution_count": null,
   "id": "32d69d50-d664-48db-a609-c8de5f50c247",
   "metadata": {},
   "outputs": [],
   "source": []
  },
  {
   "cell_type": "code",
   "execution_count": null,
   "id": "b0d2e381-0b47-4b1e-8a79-efaedae5d2b0",
   "metadata": {},
   "outputs": [],
   "source": []
  },
  {
   "cell_type": "code",
   "execution_count": 84,
   "id": "4b83e030-7608-4603-9871-4948f9197d77",
   "metadata": {
    "tags": []
   },
   "outputs": [
    {
     "data": {
      "text/plain": [
       "'<sagemaker.huggingface.model.HuggingFacePredictor object at 0x7f2ebc99b610>'"
      ]
     },
     "execution_count": 84,
     "metadata": {},
     "output_type": "execute_result"
    }
   ],
   "source": [
    "str(encoder)"
   ]
  },
  {
   "cell_type": "code",
   "execution_count": null,
   "id": "e0d33647-19f9-4834-8f76-5c690ee3bb22",
   "metadata": {},
   "outputs": [],
   "source": []
  },
  {
   "cell_type": "code",
   "execution_count": 92,
   "id": "48b025fb-29e0-4165-9edc-525d87ad30da",
   "metadata": {
    "tags": []
   },
   "outputs": [
    {
     "name": "stdout",
     "output_type": "stream",
     "text": [
      "---------!"
     ]
    }
   ],
   "source": [
    "import sagemaker, boto3, json\n",
    "from sagemaker.session import Session\n",
    "\n",
    "sagemaker_session = Session()\n",
    "aws_role = sagemaker_session.get_caller_identity_arn()\n",
    "aws_region = boto3.Session().region_name\n",
    "sess = sagemaker.Session()\n",
    "\n",
    "from sagemaker import image_uris, model_uris, script_uris\n",
    "from sagemaker.model import Model\n",
    "from sagemaker.predictor import Predictor\n",
    "from sagemaker.utils import name_from_base\n",
    "\n",
    "# model_version=\"*\" fetches the latest version of the model.\n",
    "infer_model_id, infer_model_version = \"huggingface-eqa-distilbert-base-uncased\", \"*\"\n",
    "\n",
    "endpoint_name = name_from_base(f\"insight-bert\")\n",
    "\n",
    "inference_instance_type = \"ml.p2.xlarge\"\n",
    "\n",
    "# Retrieve the inference docker container uri.\n",
    "deploy_image_uri = image_uris.retrieve(\n",
    "    region=None,\n",
    "    framework=None,\n",
    "    image_scope=\"inference\",\n",
    "    model_id=infer_model_id,\n",
    "    model_version=infer_model_version,\n",
    "    instance_type=inference_instance_type,\n",
    ")\n",
    "# Retrieve the inference script uri.\n",
    "deploy_source_uri = script_uris.retrieve(\n",
    "    model_id=infer_model_id, model_version=infer_model_version, script_scope=\"inference\"\n",
    ")\n",
    "# Retrieve the base model uri.\n",
    "base_model_uri = model_uris.retrieve(\n",
    "    model_id=infer_model_id, model_version=infer_model_version, model_scope=\"inference\"\n",
    ")\n",
    "# Create the SageMaker model instance. Note that we need to pass Predictor class when we deploy model through Model class,\n",
    "# for being able to run inference through the sagemaker API.\n",
    "model = Model(\n",
    "    image_uri=deploy_image_uri,\n",
    "    source_dir=deploy_source_uri,\n",
    "    model_data=base_model_uri,\n",
    "    entry_point=\"inference.py\",\n",
    "    role=aws_role,\n",
    "    predictor_cls=Predictor,\n",
    "    name=endpoint_name,\n",
    ")\n",
    "# deploy the Model.\n",
    "base_model_predictor = model.deploy(\n",
    "    initial_instance_count=1,\n",
    "    instance_type=inference_instance_type,\n",
    "    endpoint_name=endpoint_name,\n",
    ")"
   ]
  },
  {
   "cell_type": "code",
   "execution_count": 114,
   "id": "baf053f9-5ae5-429e-be04-52c89ed0d430",
   "metadata": {
    "tags": []
   },
   "outputs": [
    {
     "name": "stdout",
     "output_type": "stream",
     "text": [
      "b'[\"Where is in the meeting ?\", \"PARENT-TEACHER CONFERENCE REMINDER - Springfield Elementary School Chicago Date: 11/25/2023. To the parent(s) of __Isabella__________________________________,Just a reminder that we have a parent-teacher conference scheduled for ________Robert Connor Family______________on _11/25/2023_____________________ at _____10:30______________ a.m./p.m.in room number __225__________. Our conference will run approximately ___30____ minutes long.Please contact the school t (____240___)__5891234___________________ if you are unable to make this scheduled appointment. I am looking forward to meeting with you and discussing your childs progress.Your child\\\\u2019s teacher\"]'\n",
      "b'{\"score\": 0.10199644416570663, \"start\": 37, \"end\": 66, \"answer\": \"Springfield Elementary School\"}'\n"
     ]
    },
    {
     "data": {
      "text/plain": [
       "bytes"
      ]
     },
     "execution_count": 114,
     "metadata": {},
     "output_type": "execute_result"
    }
   ],
   "source": [
    "import boto3\n",
    "import json\n",
    "\n",
    "client = boto3.client('sagemaker-runtime')\n",
    "\n",
    "endpoint_name = \"insight-bert-2023-11-13-20-40-49-689\"                                       # Your endpoint name.\n",
    "content_type = \"application/json\"                                     # The MIME type of the input data in the request body.\n",
    "accept = \"application/json\"   \n",
    "input_data =  {\"inputs\":{\"question\": \"is there a meeting in the given context\",\"context\": \"PARENT-TEACHER CONFERENCE REMINDER - Springfield Elementary School Chicago Date: 11/25/2023. To the parent(s) of __Isabella__________________________________,Just a reminder that we have a parent-teacher conference scheduled for ________Robert Connor Family______________on _11/25/2023_____________________ at _____10:30______________ a.m./p.m.in room number __225__________. Our conference will run approximately ___30____ minutes long.Please contact the school t (____240___)__5891234___________________ if you are unable to make this scheduled appointment. I am looking forward to meeting with you and discussing your childs progress.Your child’s teacher\"}}\n",
    "    # The desired MIME type of the inference in the response.\n",
    "input_data =    [\n",
    "    \"Where is in the meeting ?\",\n",
    "    \"PARENT-TEACHER CONFERENCE REMINDER - Springfield Elementary School Chicago Date: 11/25/2023. To the parent(s) of __Isabella__________________________________,Just a reminder that we have a parent-teacher conference scheduled for ________Robert Connor Family______________on _11/25/2023_____________________ at _____10:30______________ a.m./p.m.in room number __225__________. Our conference will run approximately ___30____ minutes long.Please contact the school t (____240___)__5891234___________________ if you are unable to make this scheduled appointment. I am looking forward to meeting with you and discussing your childs progress.Your child’s teacher\"\n",
    "    ,\n",
    "]\n",
    "payload =json.dumps(input_data).encode(\"utf-8\")\n",
    "print(payload)\n",
    "str(payload)\n",
    "out1 = base_model_predictor.predict(payload, {\"ContentType\": \"application/list-text\", \"Accept\": \"application/json;verbose\"})\n",
    "print (out1)\n",
    "type(payload)\n",
    "\n"
   ]
  },
  {
   "cell_type": "code",
   "execution_count": 122,
   "id": "77ea713f-dc15-4724-8d71-b72acfe7bcd8",
   "metadata": {
    "tags": []
   },
   "outputs": [],
   "source": [
    "response = client.invoke_endpoint(\n",
    "    EndpointName=endpoint_name, \n",
    "    CustomAttributes=\"\", \n",
    "    ContentType='application/list-text',\n",
    "    Accept=accept,\n",
    "    Body=payload\n",
    "    )"
   ]
  },
  {
   "cell_type": "code",
   "execution_count": 123,
   "id": "0e8dbc09-d36a-4ddf-88d8-3af94a95f484",
   "metadata": {
    "tags": []
   },
   "outputs": [
    {
     "name": "stdout",
     "output_type": "stream",
     "text": [
      "{'ResponseMetadata': {'RequestId': '5373cce8-6011-42fd-8175-e8c67fa2d0fe', 'HTTPStatusCode': 200, 'HTTPHeaders': {'x-amzn-requestid': '5373cce8-6011-42fd-8175-e8c67fa2d0fe', 'x-amzn-invoked-production-variant': 'AllTraffic', 'date': 'Mon, 13 Nov 2023 21:00:20 GMT', 'content-type': 'application/json', 'content-length': '97', 'connection': 'keep-alive'}, 'RetryAttempts': 0}, 'ContentType': 'application/json', 'InvokedProductionVariant': 'AllTraffic', 'Body': <botocore.response.StreamingBody object at 0x7f2ebf58dd50>}\n"
     ]
    }
   ],
   "source": [
    "print(response)"
   ]
  },
  {
   "cell_type": "code",
   "execution_count": 124,
   "id": "8da6f261-f20d-49e2-8211-fda073808929",
   "metadata": {
    "tags": []
   },
   "outputs": [
    {
     "name": "stdout",
     "output_type": "stream",
     "text": [
      "model answer: \u001b[1m{'score': 0.10199644416570663, 'start': 37, 'end': 66, 'answer': 'Springfield Elementary School'}\u001b[0m\n",
      "\n"
     ]
    }
   ],
   "source": [
    "newline, bold, unbold = \"\\n\", \"\\033[1m\", \"\\033[0m\"\n",
    "def parse_response(query_response):\n",
    "    model_predictions = json.loads(query_response)\n",
    "    answer = (model_predictions[\"answer\"],)\n",
    "    return answer\n",
    "#answer = parse_response(response)\n",
    "#print(response['Body'].read())\n",
    "answer = json.loads(response['Body'].read().decode())\n",
    "print( \n",
    "        f\"model answer: {bold}{answer}{unbold}{newline}\"\n",
    "    )"
   ]
  },
  {
   "cell_type": "code",
   "execution_count": null,
   "id": "316fa6bd-025a-439f-be78-fb09483f52a2",
   "metadata": {},
   "outputs": [],
   "source": []
  }
 ],
 "metadata": {
  "availableInstances": [
   {
    "_defaultOrder": 0,
    "_isFastLaunch": true,
    "category": "General purpose",
    "gpuNum": 0,
    "hideHardwareSpecs": false,
    "memoryGiB": 4,
    "name": "ml.t3.medium",
    "vcpuNum": 2
   },
   {
    "_defaultOrder": 1,
    "_isFastLaunch": false,
    "category": "General purpose",
    "gpuNum": 0,
    "hideHardwareSpecs": false,
    "memoryGiB": 8,
    "name": "ml.t3.large",
    "vcpuNum": 2
   },
   {
    "_defaultOrder": 2,
    "_isFastLaunch": false,
    "category": "General purpose",
    "gpuNum": 0,
    "hideHardwareSpecs": false,
    "memoryGiB": 16,
    "name": "ml.t3.xlarge",
    "vcpuNum": 4
   },
   {
    "_defaultOrder": 3,
    "_isFastLaunch": false,
    "category": "General purpose",
    "gpuNum": 0,
    "hideHardwareSpecs": false,
    "memoryGiB": 32,
    "name": "ml.t3.2xlarge",
    "vcpuNum": 8
   },
   {
    "_defaultOrder": 4,
    "_isFastLaunch": true,
    "category": "General purpose",
    "gpuNum": 0,
    "hideHardwareSpecs": false,
    "memoryGiB": 8,
    "name": "ml.m5.large",
    "vcpuNum": 2
   },
   {
    "_defaultOrder": 5,
    "_isFastLaunch": false,
    "category": "General purpose",
    "gpuNum": 0,
    "hideHardwareSpecs": false,
    "memoryGiB": 16,
    "name": "ml.m5.xlarge",
    "vcpuNum": 4
   },
   {
    "_defaultOrder": 6,
    "_isFastLaunch": false,
    "category": "General purpose",
    "gpuNum": 0,
    "hideHardwareSpecs": false,
    "memoryGiB": 32,
    "name": "ml.m5.2xlarge",
    "vcpuNum": 8
   },
   {
    "_defaultOrder": 7,
    "_isFastLaunch": false,
    "category": "General purpose",
    "gpuNum": 0,
    "hideHardwareSpecs": false,
    "memoryGiB": 64,
    "name": "ml.m5.4xlarge",
    "vcpuNum": 16
   },
   {
    "_defaultOrder": 8,
    "_isFastLaunch": false,
    "category": "General purpose",
    "gpuNum": 0,
    "hideHardwareSpecs": false,
    "memoryGiB": 128,
    "name": "ml.m5.8xlarge",
    "vcpuNum": 32
   },
   {
    "_defaultOrder": 9,
    "_isFastLaunch": false,
    "category": "General purpose",
    "gpuNum": 0,
    "hideHardwareSpecs": false,
    "memoryGiB": 192,
    "name": "ml.m5.12xlarge",
    "vcpuNum": 48
   },
   {
    "_defaultOrder": 10,
    "_isFastLaunch": false,
    "category": "General purpose",
    "gpuNum": 0,
    "hideHardwareSpecs": false,
    "memoryGiB": 256,
    "name": "ml.m5.16xlarge",
    "vcpuNum": 64
   },
   {
    "_defaultOrder": 11,
    "_isFastLaunch": false,
    "category": "General purpose",
    "gpuNum": 0,
    "hideHardwareSpecs": false,
    "memoryGiB": 384,
    "name": "ml.m5.24xlarge",
    "vcpuNum": 96
   },
   {
    "_defaultOrder": 12,
    "_isFastLaunch": false,
    "category": "General purpose",
    "gpuNum": 0,
    "hideHardwareSpecs": false,
    "memoryGiB": 8,
    "name": "ml.m5d.large",
    "vcpuNum": 2
   },
   {
    "_defaultOrder": 13,
    "_isFastLaunch": false,
    "category": "General purpose",
    "gpuNum": 0,
    "hideHardwareSpecs": false,
    "memoryGiB": 16,
    "name": "ml.m5d.xlarge",
    "vcpuNum": 4
   },
   {
    "_defaultOrder": 14,
    "_isFastLaunch": false,
    "category": "General purpose",
    "gpuNum": 0,
    "hideHardwareSpecs": false,
    "memoryGiB": 32,
    "name": "ml.m5d.2xlarge",
    "vcpuNum": 8
   },
   {
    "_defaultOrder": 15,
    "_isFastLaunch": false,
    "category": "General purpose",
    "gpuNum": 0,
    "hideHardwareSpecs": false,
    "memoryGiB": 64,
    "name": "ml.m5d.4xlarge",
    "vcpuNum": 16
   },
   {
    "_defaultOrder": 16,
    "_isFastLaunch": false,
    "category": "General purpose",
    "gpuNum": 0,
    "hideHardwareSpecs": false,
    "memoryGiB": 128,
    "name": "ml.m5d.8xlarge",
    "vcpuNum": 32
   },
   {
    "_defaultOrder": 17,
    "_isFastLaunch": false,
    "category": "General purpose",
    "gpuNum": 0,
    "hideHardwareSpecs": false,
    "memoryGiB": 192,
    "name": "ml.m5d.12xlarge",
    "vcpuNum": 48
   },
   {
    "_defaultOrder": 18,
    "_isFastLaunch": false,
    "category": "General purpose",
    "gpuNum": 0,
    "hideHardwareSpecs": false,
    "memoryGiB": 256,
    "name": "ml.m5d.16xlarge",
    "vcpuNum": 64
   },
   {
    "_defaultOrder": 19,
    "_isFastLaunch": false,
    "category": "General purpose",
    "gpuNum": 0,
    "hideHardwareSpecs": false,
    "memoryGiB": 384,
    "name": "ml.m5d.24xlarge",
    "vcpuNum": 96
   },
   {
    "_defaultOrder": 20,
    "_isFastLaunch": false,
    "category": "General purpose",
    "gpuNum": 0,
    "hideHardwareSpecs": true,
    "memoryGiB": 0,
    "name": "ml.geospatial.interactive",
    "supportedImageNames": [
     "sagemaker-geospatial-v1-0"
    ],
    "vcpuNum": 0
   },
   {
    "_defaultOrder": 21,
    "_isFastLaunch": true,
    "category": "Compute optimized",
    "gpuNum": 0,
    "hideHardwareSpecs": false,
    "memoryGiB": 4,
    "name": "ml.c5.large",
    "vcpuNum": 2
   },
   {
    "_defaultOrder": 22,
    "_isFastLaunch": false,
    "category": "Compute optimized",
    "gpuNum": 0,
    "hideHardwareSpecs": false,
    "memoryGiB": 8,
    "name": "ml.c5.xlarge",
    "vcpuNum": 4
   },
   {
    "_defaultOrder": 23,
    "_isFastLaunch": false,
    "category": "Compute optimized",
    "gpuNum": 0,
    "hideHardwareSpecs": false,
    "memoryGiB": 16,
    "name": "ml.c5.2xlarge",
    "vcpuNum": 8
   },
   {
    "_defaultOrder": 24,
    "_isFastLaunch": false,
    "category": "Compute optimized",
    "gpuNum": 0,
    "hideHardwareSpecs": false,
    "memoryGiB": 32,
    "name": "ml.c5.4xlarge",
    "vcpuNum": 16
   },
   {
    "_defaultOrder": 25,
    "_isFastLaunch": false,
    "category": "Compute optimized",
    "gpuNum": 0,
    "hideHardwareSpecs": false,
    "memoryGiB": 72,
    "name": "ml.c5.9xlarge",
    "vcpuNum": 36
   },
   {
    "_defaultOrder": 26,
    "_isFastLaunch": false,
    "category": "Compute optimized",
    "gpuNum": 0,
    "hideHardwareSpecs": false,
    "memoryGiB": 96,
    "name": "ml.c5.12xlarge",
    "vcpuNum": 48
   },
   {
    "_defaultOrder": 27,
    "_isFastLaunch": false,
    "category": "Compute optimized",
    "gpuNum": 0,
    "hideHardwareSpecs": false,
    "memoryGiB": 144,
    "name": "ml.c5.18xlarge",
    "vcpuNum": 72
   },
   {
    "_defaultOrder": 28,
    "_isFastLaunch": false,
    "category": "Compute optimized",
    "gpuNum": 0,
    "hideHardwareSpecs": false,
    "memoryGiB": 192,
    "name": "ml.c5.24xlarge",
    "vcpuNum": 96
   },
   {
    "_defaultOrder": 29,
    "_isFastLaunch": true,
    "category": "Accelerated computing",
    "gpuNum": 1,
    "hideHardwareSpecs": false,
    "memoryGiB": 16,
    "name": "ml.g4dn.xlarge",
    "vcpuNum": 4
   },
   {
    "_defaultOrder": 30,
    "_isFastLaunch": false,
    "category": "Accelerated computing",
    "gpuNum": 1,
    "hideHardwareSpecs": false,
    "memoryGiB": 32,
    "name": "ml.g4dn.2xlarge",
    "vcpuNum": 8
   },
   {
    "_defaultOrder": 31,
    "_isFastLaunch": false,
    "category": "Accelerated computing",
    "gpuNum": 1,
    "hideHardwareSpecs": false,
    "memoryGiB": 64,
    "name": "ml.g4dn.4xlarge",
    "vcpuNum": 16
   },
   {
    "_defaultOrder": 32,
    "_isFastLaunch": false,
    "category": "Accelerated computing",
    "gpuNum": 1,
    "hideHardwareSpecs": false,
    "memoryGiB": 128,
    "name": "ml.g4dn.8xlarge",
    "vcpuNum": 32
   },
   {
    "_defaultOrder": 33,
    "_isFastLaunch": false,
    "category": "Accelerated computing",
    "gpuNum": 4,
    "hideHardwareSpecs": false,
    "memoryGiB": 192,
    "name": "ml.g4dn.12xlarge",
    "vcpuNum": 48
   },
   {
    "_defaultOrder": 34,
    "_isFastLaunch": false,
    "category": "Accelerated computing",
    "gpuNum": 1,
    "hideHardwareSpecs": false,
    "memoryGiB": 256,
    "name": "ml.g4dn.16xlarge",
    "vcpuNum": 64
   },
   {
    "_defaultOrder": 35,
    "_isFastLaunch": false,
    "category": "Accelerated computing",
    "gpuNum": 1,
    "hideHardwareSpecs": false,
    "memoryGiB": 61,
    "name": "ml.p3.2xlarge",
    "vcpuNum": 8
   },
   {
    "_defaultOrder": 36,
    "_isFastLaunch": false,
    "category": "Accelerated computing",
    "gpuNum": 4,
    "hideHardwareSpecs": false,
    "memoryGiB": 244,
    "name": "ml.p3.8xlarge",
    "vcpuNum": 32
   },
   {
    "_defaultOrder": 37,
    "_isFastLaunch": false,
    "category": "Accelerated computing",
    "gpuNum": 8,
    "hideHardwareSpecs": false,
    "memoryGiB": 488,
    "name": "ml.p3.16xlarge",
    "vcpuNum": 64
   },
   {
    "_defaultOrder": 38,
    "_isFastLaunch": false,
    "category": "Accelerated computing",
    "gpuNum": 8,
    "hideHardwareSpecs": false,
    "memoryGiB": 768,
    "name": "ml.p3dn.24xlarge",
    "vcpuNum": 96
   },
   {
    "_defaultOrder": 39,
    "_isFastLaunch": false,
    "category": "Memory Optimized",
    "gpuNum": 0,
    "hideHardwareSpecs": false,
    "memoryGiB": 16,
    "name": "ml.r5.large",
    "vcpuNum": 2
   },
   {
    "_defaultOrder": 40,
    "_isFastLaunch": false,
    "category": "Memory Optimized",
    "gpuNum": 0,
    "hideHardwareSpecs": false,
    "memoryGiB": 32,
    "name": "ml.r5.xlarge",
    "vcpuNum": 4
   },
   {
    "_defaultOrder": 41,
    "_isFastLaunch": false,
    "category": "Memory Optimized",
    "gpuNum": 0,
    "hideHardwareSpecs": false,
    "memoryGiB": 64,
    "name": "ml.r5.2xlarge",
    "vcpuNum": 8
   },
   {
    "_defaultOrder": 42,
    "_isFastLaunch": false,
    "category": "Memory Optimized",
    "gpuNum": 0,
    "hideHardwareSpecs": false,
    "memoryGiB": 128,
    "name": "ml.r5.4xlarge",
    "vcpuNum": 16
   },
   {
    "_defaultOrder": 43,
    "_isFastLaunch": false,
    "category": "Memory Optimized",
    "gpuNum": 0,
    "hideHardwareSpecs": false,
    "memoryGiB": 256,
    "name": "ml.r5.8xlarge",
    "vcpuNum": 32
   },
   {
    "_defaultOrder": 44,
    "_isFastLaunch": false,
    "category": "Memory Optimized",
    "gpuNum": 0,
    "hideHardwareSpecs": false,
    "memoryGiB": 384,
    "name": "ml.r5.12xlarge",
    "vcpuNum": 48
   },
   {
    "_defaultOrder": 45,
    "_isFastLaunch": false,
    "category": "Memory Optimized",
    "gpuNum": 0,
    "hideHardwareSpecs": false,
    "memoryGiB": 512,
    "name": "ml.r5.16xlarge",
    "vcpuNum": 64
   },
   {
    "_defaultOrder": 46,
    "_isFastLaunch": false,
    "category": "Memory Optimized",
    "gpuNum": 0,
    "hideHardwareSpecs": false,
    "memoryGiB": 768,
    "name": "ml.r5.24xlarge",
    "vcpuNum": 96
   },
   {
    "_defaultOrder": 47,
    "_isFastLaunch": false,
    "category": "Accelerated computing",
    "gpuNum": 1,
    "hideHardwareSpecs": false,
    "memoryGiB": 16,
    "name": "ml.g5.xlarge",
    "vcpuNum": 4
   },
   {
    "_defaultOrder": 48,
    "_isFastLaunch": false,
    "category": "Accelerated computing",
    "gpuNum": 1,
    "hideHardwareSpecs": false,
    "memoryGiB": 32,
    "name": "ml.g5.2xlarge",
    "vcpuNum": 8
   },
   {
    "_defaultOrder": 49,
    "_isFastLaunch": false,
    "category": "Accelerated computing",
    "gpuNum": 1,
    "hideHardwareSpecs": false,
    "memoryGiB": 64,
    "name": "ml.g5.4xlarge",
    "vcpuNum": 16
   },
   {
    "_defaultOrder": 50,
    "_isFastLaunch": false,
    "category": "Accelerated computing",
    "gpuNum": 1,
    "hideHardwareSpecs": false,
    "memoryGiB": 128,
    "name": "ml.g5.8xlarge",
    "vcpuNum": 32
   },
   {
    "_defaultOrder": 51,
    "_isFastLaunch": false,
    "category": "Accelerated computing",
    "gpuNum": 1,
    "hideHardwareSpecs": false,
    "memoryGiB": 256,
    "name": "ml.g5.16xlarge",
    "vcpuNum": 64
   },
   {
    "_defaultOrder": 52,
    "_isFastLaunch": false,
    "category": "Accelerated computing",
    "gpuNum": 4,
    "hideHardwareSpecs": false,
    "memoryGiB": 192,
    "name": "ml.g5.12xlarge",
    "vcpuNum": 48
   },
   {
    "_defaultOrder": 53,
    "_isFastLaunch": false,
    "category": "Accelerated computing",
    "gpuNum": 4,
    "hideHardwareSpecs": false,
    "memoryGiB": 384,
    "name": "ml.g5.24xlarge",
    "vcpuNum": 96
   },
   {
    "_defaultOrder": 54,
    "_isFastLaunch": false,
    "category": "Accelerated computing",
    "gpuNum": 8,
    "hideHardwareSpecs": false,
    "memoryGiB": 768,
    "name": "ml.g5.48xlarge",
    "vcpuNum": 192
   },
   {
    "_defaultOrder": 55,
    "_isFastLaunch": false,
    "category": "Accelerated computing",
    "gpuNum": 8,
    "hideHardwareSpecs": false,
    "memoryGiB": 1152,
    "name": "ml.p4d.24xlarge",
    "vcpuNum": 96
   },
   {
    "_defaultOrder": 56,
    "_isFastLaunch": false,
    "category": "Accelerated computing",
    "gpuNum": 8,
    "hideHardwareSpecs": false,
    "memoryGiB": 1152,
    "name": "ml.p4de.24xlarge",
    "vcpuNum": 96
   }
  ],
  "kernelspec": {
   "display_name": "Python 3 (PyTorch 2.0.0 Python 3.10 GPU Optimized)",
   "language": "python",
   "name": "python3__SAGEMAKER_INTERNAL__arn:aws:sagemaker:us-east-1:081325390199:image/pytorch-2.0.0-gpu-py310"
  },
  "language_info": {
   "codemirror_mode": {
    "name": "ipython",
    "version": 3
   },
   "file_extension": ".py",
   "mimetype": "text/x-python",
   "name": "python",
   "nbconvert_exporter": "python",
   "pygments_lexer": "ipython3",
   "version": "3.10.8"
  }
 },
 "nbformat": 4,
 "nbformat_minor": 5
}
