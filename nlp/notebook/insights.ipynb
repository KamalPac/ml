{
 "cells": [
  {
   "cell_type": "code",
   "execution_count": 3,
   "id": "b673a7b0-4a01-49e3-adc8-b19b4b9a1cc9",
   "metadata": {
    "tags": []
   },
   "outputs": [],
   "source": [
    "import boto3\n",
    "import json\n",
    "import pandas as pd"
   ]
  },
  {
   "cell_type": "code",
   "execution_count": 129,
   "id": "ce177c95-575a-4ec1-ae08-1a98f60b11cd",
   "metadata": {
    "tags": []
   },
   "outputs": [],
   "source": [
    "from datetime import datetime"
   ]
  },
  {
   "cell_type": "code",
   "execution_count": 14,
   "id": "19d0e4cf-cc48-4793-b0da-de0f5103b507",
   "metadata": {
    "tags": []
   },
   "outputs": [],
   "source": [
    "client = boto3.client('sagemaker-runtime')"
   ]
  },
  {
   "cell_type": "code",
   "execution_count": 15,
   "id": "399e0abf-faa3-4533-8b8b-2d019803327a",
   "metadata": {
    "tags": []
   },
   "outputs": [],
   "source": [
    "endpoint_name = \"insight-bert-2023-11-13-20-40-49-689\"                                      \n",
    "content_type = \"application/list-text\"  # The MIME type of the input data in the request body.\n",
    "accept = \"application/json\" "
   ]
  },
  {
   "cell_type": "code",
   "execution_count": 120,
   "id": "23aa5a64-04be-40bc-b039-319efeae6705",
   "metadata": {
    "tags": []
   },
   "outputs": [],
   "source": [
    "def create_payload(question,text):   \n",
    "    #question=questions.query(f\"tag==\\\"{tag}\\\"\")['question']     \n",
    "    #print(f\"[\\\"{question.to_string(index=False)}\\\" ,\\\"{text}]\\\"\" )\n",
    "    #return f\"[\\\"{question.to_string(index=False)}\\\" ,\\\"{text}]\\\"\"\n",
    "    #print([f\"\\\"{question}\\\" ,\\\"{text}\\\"\"])\n",
    "    input_data=[''+question+'',''+text+'']    \n",
    "    return input_data"
   ]
  },
  {
   "cell_type": "code",
   "execution_count": 122,
   "id": "7abbcfe7-d9ae-4433-b598-43254a4fdb13",
   "metadata": {
    "tags": []
   },
   "outputs": [],
   "source": [
    "def parse_response(response,score_threshold):    \n",
    "    answer = json.loads(response['Body'].read().decode())\n",
    "    #print(answer)\n",
    "    if answer['score'] > score_threshold:\n",
    "        return answer['answer']\n",
    "    else:\n",
    "        return 'NA'"
   ]
  },
  {
   "cell_type": "code",
   "execution_count": 97,
   "id": "0f724e83-0b3c-493f-adcd-3ed8d5358c23",
   "metadata": {
    "tags": []
   },
   "outputs": [],
   "source": [
    "def call_endpoint(input_data):\n",
    "    payload =json.dumps(input_data).encode(\"utf-8\")    \n",
    "    response = client.invoke_endpoint(\n",
    "        EndpointName=endpoint_name, \n",
    "        CustomAttributes=\"\", \n",
    "        ContentType=content_type,\n",
    "        Accept=accept,\n",
    "        Body=payload\n",
    "        )\n",
    "    answer=parse_response(response,.05)\n",
    "    return answer"
   ]
  },
  {
   "cell_type": "code",
   "execution_count": 66,
   "id": "72afc316-50f2-42d3-ac5e-7e365bc91a40",
   "metadata": {
    "tags": []
   },
   "outputs": [],
   "source": [
    "s3_input_file_path ='s3://abb8-ml-model/dailydownload/mailContents.json'\n",
    "s3_output_file_path ='s3://abb8-ml-model/dailydownload/insights.json'\n",
    "s3_prompt_questions_path='./data/questions.txt'"
   ]
  },
  {
   "cell_type": "code",
   "execution_count": 138,
   "id": "cf01d0e4-c680-4347-8c4e-01e60c7af7f4",
   "metadata": {
    "tags": []
   },
   "outputs": [],
   "source": [
    "#Process s3 documents\n",
    "def process_files():\n",
    "    docs = pd.read_json(s3_input_file_path)\n",
    "    docs.insert(3,\"insight_dates\",\"\")\n",
    "    docs.insert(4,\"summary\",\"\")\n",
    "    questions=pd.read_csv(s3_prompt_questions_path)\n",
    "    #print(docs.head(1))\n",
    "    #print(questions.head(1))"
   ]
  },
  {
   "cell_type": "code",
   "execution_count": 144,
   "id": "af0d98ac-301e-46c2-93b6-313ca11c56ab",
   "metadata": {
    "tags": []
   },
   "outputs": [],
   "source": [
    "def run_insight():\n",
    "    process_files()\n",
    "    df = pd.DataFrame(columns=['thread_id','text', 'label'])\n",
    "    result_df= pd.DataFrame(columns=['id','title', 'description','type','status','documents','pocID','poc','url','actionDate','location','createdDate','updatedDate'])\n",
    "    for index,row in docs.iterrows():\n",
    "        id=row[\"thread_id\"]\n",
    "        title=row[\"mail_subject\"]\n",
    "        #description=\n",
    "        #'type','status','documents','pocID','poc','url','actionDate','location','createdDate','updatedDate'\n",
    "        thread_text=row[\"mail_body\"]\n",
    "        #print(thread_subject)\n",
    "        #location='location'    \n",
    "        #input_data = create_payload('location',thread_text)      \n",
    "        #create data\n",
    "        for index,row in questions.iterrows():\n",
    "            payload = create_payload(row[\"question\"],thread_text) \n",
    "            #print(payload)\n",
    "            match row[\"tag\"]:\n",
    "                case 'location':\n",
    "                    location=call_endpoint(payload)\n",
    "                    #print('loc '+location)\n",
    "                case 'actiondate':\n",
    "                    actiondate=call_endpoint(payload)\n",
    "                    #print('actiondate:' + actiondate)  \n",
    "                case 'poc':\n",
    "                    poc=call_endpoint(payload) \n",
    "                    #print('poc:' +poc) \n",
    "                case 'url':\n",
    "                    url=call_endpoint(payload)    \n",
    "                    #print('url:'+url)          \n",
    "                case _:\n",
    "                    print( row[\"tag\"] +\":no action\")    \n",
    "        list_row = [id,title, 'description','event','','','',poc,url,actiondate,location,datetime.now(),'']      \n",
    "        result_df.loc[len(result_df)]=list_row\n",
    "    print(result_df)\n",
    "    result_df.to_json(s3_output_file_path,orient='records')    "
   ]
  },
  {
   "cell_type": "code",
   "execution_count": 145,
   "id": "fc067c23-2032-4b85-bbe5-3178983d5ebe",
   "metadata": {
    "tags": []
   },
   "outputs": [
    {
     "name": "stdout",
     "output_type": "stream",
     "text": [
      "     id               title  description   type status documents pocID  \\\n",
      "0  1001        utility_bill  description  event                          \n",
      "1  1002  utility_bill march  description  event                          \n",
      "2  1001        utility_bill  description  event                          \n",
      "\n",
      "                     poc                                                url  \\\n",
      "0          our customers  If you have any questions don’t hesitate to re...   \n",
      "1  Robert  Connor Family                                                 NA   \n",
      "2    DR. Janet Baker DDS                       by clicking the button below   \n",
      "\n",
      "                           actionDate                   location  \\\n",
      "0                          10/30/2023                      Pepco   \n",
      "1                                  NA                         NA   \n",
      "2  Tuesday, December 16 2023  3:30 PM  Tuesday, December 16 2023   \n",
      "\n",
      "                 createdDate updatedDate  \n",
      "0 2023-11-14 17:09:54.773560              \n",
      "1 2023-11-14 17:09:54.924557              \n",
      "2 2023-11-14 17:09:55.020310              \n"
     ]
    }
   ],
   "source": [
    "run_insight()"
   ]
  },
  {
   "cell_type": "code",
   "execution_count": 7,
   "id": "83760c1e-8074-405d-a2ed-d6e6b4636396",
   "metadata": {
    "tags": []
   },
   "outputs": [],
   "source": [
    "s3_client = boto3.client('s3', 'us-east-1')\n",
    "Prefix='dailydownload'\n",
    "key='mailContents.json'\n",
    "bucket_name = \"abb8-ml-model\""
   ]
  },
  {
   "cell_type": "code",
   "execution_count": 8,
   "id": "17ddad64-fd3a-4b67-9cf3-6d3f202b2d30",
   "metadata": {
    "tags": []
   },
   "outputs": [],
   "source": [
    "s3_bucket = s3_client.list_objects_v2(\n",
    "        Bucket=bucket_name,\n",
    "        Prefix='dailydownload'   \n",
    "    )\n",
    "\n"
   ]
  },
  {
   "cell_type": "code",
   "execution_count": 13,
   "id": "9ae571c4-445b-4968-8e0b-bdcb5be44778",
   "metadata": {
    "tags": []
   },
   "outputs": [
    {
     "name": "stdout",
     "output_type": "stream",
     "text": [
      "dailydownload/\n",
      "dailydownload/insights.json\n",
      "dailydownload/mailContent.json\n",
      "dailydownload/mailContents.json\n",
      "dailydownload/mailcontents.txt\n",
      "dailydownload/zephyr-7b-alpha.Q5_K_M.gguf\n"
     ]
    }
   ],
   "source": [
    "for content in s3_bucket[\"Contents\"]:\n",
    "    print(content[\"Key\"])"
   ]
  },
  {
   "cell_type": "code",
   "execution_count": 63,
   "id": "a72f79d3-a7f3-468f-a806-50837294839f",
   "metadata": {
    "tags": []
   },
   "outputs": [],
   "source": [
    "read_from_s3 = s3_client.get_object(\n",
    "            Key='dailydownload/mailContents.json',            \n",
    "            Bucket=bucket_name\n",
    "        )\n",
    "#print(read_from_s3['Body'].read().decode('UTF-8'))\n"
   ]
  },
  {
   "cell_type": "code",
   "execution_count": 64,
   "id": "19cc6ac4-7b08-4114-9740-5a26453585f7",
   "metadata": {
    "tags": []
   },
   "outputs": [
    {
     "name": "stdout",
     "output_type": "stream",
     "text": [
      "[\n",
      "    {\n",
      "        \"thread_id\": \"1001\",\n",
      "        \"mail_subject\": \"utility_bill\",\n",
      "        \"mail_body\": \" Rob, We hope that you’re enjoying your electricity utility service.At  Pepco we take pride in making sure that all of our customers enjoy what we provide them.    I did want to quickly mentin that we haven’t received payment from you just yet./    No worries, it isn’t due until 10/30/2023 (one week from today).You can pay by mailing us a check at Pepco Baltimore or online /    If you have any questions don’t hesitate to reply to this email or give us a call at 1-888-456-7894\"\n",
      "    },\n",
      "    {\n",
      "        \"thread_id\": \"1002\",\n",
      "        \"mail_subject\": \"utility_bill march\",\n",
      "        \"mail_body\": \"PARENT-TEACHER CONFERENCE REMINDER -springfield elementary school  Date: ___11/25/2023_______________________ To the parent(s) of __Isabella__________________________________,Just a reminder that we have a parent-teacher conference scheduled for ________Robert  Connor Family______________on _11/25/2023_____________________ at _____10:30______________ a.m./p.m.in room number __225__________. Our conference will run approximately ___30____ minutes long.Please contact the school t (____240___)__5891234___________________ if you are unable to make this scheduled appointment. I am looking forward to meeting with you and discussing your child’s progress.Your child’s teacher, \"\n",
      "    },\n",
      "    {\n",
      "        \"thread_id\": \"1001\",\n",
      "        \"mail_subject\": \"utility_bill\",\n",
      "        \"mail_body\": \"Hello Natasha,Just a friendly reminder about your upcoming appointment with DR. Janet Baker DDS. Please confirm your appointment by clicking the button below.____________________Your appointment is: Tuesday, December 16 2023  3:30 PM\"\n",
      "    }\n",
      "]\n"
     ]
    }
   ],
   "source": [
    "dataf=json.dumps(read_from_s3['Body'].read().decode('UTF-8'))\n",
    "dataf=json.loads(dataf)\n",
    "print(dataf)"
   ]
  },
  {
   "cell_type": "code",
   "execution_count": 54,
   "id": "596f22dc-8c7a-42d4-8229-05206166c0e0",
   "metadata": {
    "tags": []
   },
   "outputs": [
    {
     "name": "stdout",
     "output_type": "stream",
     "text": [
      "\"[\\r\\n    {\\r\\n        \\\"thread_id\\\": \\\"1001\\\",\\r\\n        \\\"mail_subject\\\": \\\"utility_bill\\\",\\r\\n        \\\"mail_body\\\": \\\" Rob, We hope that you\\u2019re enjoying your electricity utility service.At  Pepco we take pride in making sure that all of our customers enjoy what we provide them.    I did want to quickly mentin that we haven\\u2019t received payment from you just yet./    No worries, it isn\\u2019t due until 10/30/2023 (one week from today).You can pay by mailing us a check at Pepco Baltimore or online /    If you have any questions don\\u2019t hesitate to reply to this email or give us a call at 1-888-456-7894\\\"\\r\\n    },\\r\\n    {\\r\\n        \\\"thread_id\\\": \\\"1002\\\",\\r\\n        \\\"mail_subject\\\": \\\"utility_bill march\\\",\\r\\n        \\\"mail_body\\\": \\\"PARENT-TEACHER CONFERENCE REMINDER -springfield elementary school  Date: ___11/25/2023_______________________ To the parent(s) of __Isabella__________________________________,Just a reminder that we have a parent-teacher conference scheduled for ________Robert  Connor Family______________on _11/25/2023_____________________ at _____10:30______________ a.m./p.m.in room number __225__________. Our conference will run approximately ___30____ minutes long.Please contact the school t (____240___)__5891234___________________ if you are unable to make this scheduled appointment. I am looking forward to meeting with you and discussing your child\\u2019s progress.Your child\\u2019s teacher, \\\"\\r\\n    },\\r\\n    {\\r\\n        \\\"thread_id\\\": \\\"1001\\\",\\r\\n        \\\"mail_subject\\\": \\\"utility_bill\\\",\\r\\n        \\\"mail_body\\\": \\\"Hello Natasha,Just a friendly reminder about your upcoming appointment with DR. Janet Baker DDS. Please confirm your appointment by clicking the button below.____________________Your appointment is: Tuesday, December 16 2023  3:30 PM\\\"\\r\\n    }\\r\\n]\"\n"
     ]
    }
   ],
   "source": [
    "print(dataf)"
   ]
  },
  {
   "cell_type": "code",
   "execution_count": 65,
   "id": "bc7acc2f-c407-47df-b364-6087f5229abd",
   "metadata": {
    "tags": []
   },
   "outputs": [],
   "source": [
    "from pandas import json_normalize\n",
    "df2 = pd.read_json(dataf, orient ='records')"
   ]
  },
  {
   "cell_type": "code",
   "execution_count": 66,
   "id": "27aa458f-00a0-412a-979a-a73f6e94712c",
   "metadata": {
    "tags": []
   },
   "outputs": [
    {
     "name": "stdout",
     "output_type": "stream",
     "text": [
      "   thread_id        mail_subject  \\\n",
      "0       1001        utility_bill   \n",
      "1       1002  utility_bill march   \n",
      "2       1001        utility_bill   \n",
      "\n",
      "                                           mail_body  \n",
      "0   Rob, We hope that you’re enjoying your electr...  \n",
      "1  PARENT-TEACHER CONFERENCE REMINDER -springfiel...  \n",
      "2  Hello Natasha,Just a friendly reminder about y...  \n"
     ]
    }
   ],
   "source": [
    "print(df2)"
   ]
  },
  {
   "cell_type": "code",
   "execution_count": null,
   "id": "80587a61-8755-4f1f-8dc8-1fd95031273f",
   "metadata": {},
   "outputs": [],
   "source": []
  }
 ],
 "metadata": {
  "availableInstances": [
   {
    "_defaultOrder": 0,
    "_isFastLaunch": true,
    "category": "General purpose",
    "gpuNum": 0,
    "hideHardwareSpecs": false,
    "memoryGiB": 4,
    "name": "ml.t3.medium",
    "vcpuNum": 2
   },
   {
    "_defaultOrder": 1,
    "_isFastLaunch": false,
    "category": "General purpose",
    "gpuNum": 0,
    "hideHardwareSpecs": false,
    "memoryGiB": 8,
    "name": "ml.t3.large",
    "vcpuNum": 2
   },
   {
    "_defaultOrder": 2,
    "_isFastLaunch": false,
    "category": "General purpose",
    "gpuNum": 0,
    "hideHardwareSpecs": false,
    "memoryGiB": 16,
    "name": "ml.t3.xlarge",
    "vcpuNum": 4
   },
   {
    "_defaultOrder": 3,
    "_isFastLaunch": false,
    "category": "General purpose",
    "gpuNum": 0,
    "hideHardwareSpecs": false,
    "memoryGiB": 32,
    "name": "ml.t3.2xlarge",
    "vcpuNum": 8
   },
   {
    "_defaultOrder": 4,
    "_isFastLaunch": true,
    "category": "General purpose",
    "gpuNum": 0,
    "hideHardwareSpecs": false,
    "memoryGiB": 8,
    "name": "ml.m5.large",
    "vcpuNum": 2
   },
   {
    "_defaultOrder": 5,
    "_isFastLaunch": false,
    "category": "General purpose",
    "gpuNum": 0,
    "hideHardwareSpecs": false,
    "memoryGiB": 16,
    "name": "ml.m5.xlarge",
    "vcpuNum": 4
   },
   {
    "_defaultOrder": 6,
    "_isFastLaunch": false,
    "category": "General purpose",
    "gpuNum": 0,
    "hideHardwareSpecs": false,
    "memoryGiB": 32,
    "name": "ml.m5.2xlarge",
    "vcpuNum": 8
   },
   {
    "_defaultOrder": 7,
    "_isFastLaunch": false,
    "category": "General purpose",
    "gpuNum": 0,
    "hideHardwareSpecs": false,
    "memoryGiB": 64,
    "name": "ml.m5.4xlarge",
    "vcpuNum": 16
   },
   {
    "_defaultOrder": 8,
    "_isFastLaunch": false,
    "category": "General purpose",
    "gpuNum": 0,
    "hideHardwareSpecs": false,
    "memoryGiB": 128,
    "name": "ml.m5.8xlarge",
    "vcpuNum": 32
   },
   {
    "_defaultOrder": 9,
    "_isFastLaunch": false,
    "category": "General purpose",
    "gpuNum": 0,
    "hideHardwareSpecs": false,
    "memoryGiB": 192,
    "name": "ml.m5.12xlarge",
    "vcpuNum": 48
   },
   {
    "_defaultOrder": 10,
    "_isFastLaunch": false,
    "category": "General purpose",
    "gpuNum": 0,
    "hideHardwareSpecs": false,
    "memoryGiB": 256,
    "name": "ml.m5.16xlarge",
    "vcpuNum": 64
   },
   {
    "_defaultOrder": 11,
    "_isFastLaunch": false,
    "category": "General purpose",
    "gpuNum": 0,
    "hideHardwareSpecs": false,
    "memoryGiB": 384,
    "name": "ml.m5.24xlarge",
    "vcpuNum": 96
   },
   {
    "_defaultOrder": 12,
    "_isFastLaunch": false,
    "category": "General purpose",
    "gpuNum": 0,
    "hideHardwareSpecs": false,
    "memoryGiB": 8,
    "name": "ml.m5d.large",
    "vcpuNum": 2
   },
   {
    "_defaultOrder": 13,
    "_isFastLaunch": false,
    "category": "General purpose",
    "gpuNum": 0,
    "hideHardwareSpecs": false,
    "memoryGiB": 16,
    "name": "ml.m5d.xlarge",
    "vcpuNum": 4
   },
   {
    "_defaultOrder": 14,
    "_isFastLaunch": false,
    "category": "General purpose",
    "gpuNum": 0,
    "hideHardwareSpecs": false,
    "memoryGiB": 32,
    "name": "ml.m5d.2xlarge",
    "vcpuNum": 8
   },
   {
    "_defaultOrder": 15,
    "_isFastLaunch": false,
    "category": "General purpose",
    "gpuNum": 0,
    "hideHardwareSpecs": false,
    "memoryGiB": 64,
    "name": "ml.m5d.4xlarge",
    "vcpuNum": 16
   },
   {
    "_defaultOrder": 16,
    "_isFastLaunch": false,
    "category": "General purpose",
    "gpuNum": 0,
    "hideHardwareSpecs": false,
    "memoryGiB": 128,
    "name": "ml.m5d.8xlarge",
    "vcpuNum": 32
   },
   {
    "_defaultOrder": 17,
    "_isFastLaunch": false,
    "category": "General purpose",
    "gpuNum": 0,
    "hideHardwareSpecs": false,
    "memoryGiB": 192,
    "name": "ml.m5d.12xlarge",
    "vcpuNum": 48
   },
   {
    "_defaultOrder": 18,
    "_isFastLaunch": false,
    "category": "General purpose",
    "gpuNum": 0,
    "hideHardwareSpecs": false,
    "memoryGiB": 256,
    "name": "ml.m5d.16xlarge",
    "vcpuNum": 64
   },
   {
    "_defaultOrder": 19,
    "_isFastLaunch": false,
    "category": "General purpose",
    "gpuNum": 0,
    "hideHardwareSpecs": false,
    "memoryGiB": 384,
    "name": "ml.m5d.24xlarge",
    "vcpuNum": 96
   },
   {
    "_defaultOrder": 20,
    "_isFastLaunch": false,
    "category": "General purpose",
    "gpuNum": 0,
    "hideHardwareSpecs": true,
    "memoryGiB": 0,
    "name": "ml.geospatial.interactive",
    "supportedImageNames": [
     "sagemaker-geospatial-v1-0"
    ],
    "vcpuNum": 0
   },
   {
    "_defaultOrder": 21,
    "_isFastLaunch": true,
    "category": "Compute optimized",
    "gpuNum": 0,
    "hideHardwareSpecs": false,
    "memoryGiB": 4,
    "name": "ml.c5.large",
    "vcpuNum": 2
   },
   {
    "_defaultOrder": 22,
    "_isFastLaunch": false,
    "category": "Compute optimized",
    "gpuNum": 0,
    "hideHardwareSpecs": false,
    "memoryGiB": 8,
    "name": "ml.c5.xlarge",
    "vcpuNum": 4
   },
   {
    "_defaultOrder": 23,
    "_isFastLaunch": false,
    "category": "Compute optimized",
    "gpuNum": 0,
    "hideHardwareSpecs": false,
    "memoryGiB": 16,
    "name": "ml.c5.2xlarge",
    "vcpuNum": 8
   },
   {
    "_defaultOrder": 24,
    "_isFastLaunch": false,
    "category": "Compute optimized",
    "gpuNum": 0,
    "hideHardwareSpecs": false,
    "memoryGiB": 32,
    "name": "ml.c5.4xlarge",
    "vcpuNum": 16
   },
   {
    "_defaultOrder": 25,
    "_isFastLaunch": false,
    "category": "Compute optimized",
    "gpuNum": 0,
    "hideHardwareSpecs": false,
    "memoryGiB": 72,
    "name": "ml.c5.9xlarge",
    "vcpuNum": 36
   },
   {
    "_defaultOrder": 26,
    "_isFastLaunch": false,
    "category": "Compute optimized",
    "gpuNum": 0,
    "hideHardwareSpecs": false,
    "memoryGiB": 96,
    "name": "ml.c5.12xlarge",
    "vcpuNum": 48
   },
   {
    "_defaultOrder": 27,
    "_isFastLaunch": false,
    "category": "Compute optimized",
    "gpuNum": 0,
    "hideHardwareSpecs": false,
    "memoryGiB": 144,
    "name": "ml.c5.18xlarge",
    "vcpuNum": 72
   },
   {
    "_defaultOrder": 28,
    "_isFastLaunch": false,
    "category": "Compute optimized",
    "gpuNum": 0,
    "hideHardwareSpecs": false,
    "memoryGiB": 192,
    "name": "ml.c5.24xlarge",
    "vcpuNum": 96
   },
   {
    "_defaultOrder": 29,
    "_isFastLaunch": true,
    "category": "Accelerated computing",
    "gpuNum": 1,
    "hideHardwareSpecs": false,
    "memoryGiB": 16,
    "name": "ml.g4dn.xlarge",
    "vcpuNum": 4
   },
   {
    "_defaultOrder": 30,
    "_isFastLaunch": false,
    "category": "Accelerated computing",
    "gpuNum": 1,
    "hideHardwareSpecs": false,
    "memoryGiB": 32,
    "name": "ml.g4dn.2xlarge",
    "vcpuNum": 8
   },
   {
    "_defaultOrder": 31,
    "_isFastLaunch": false,
    "category": "Accelerated computing",
    "gpuNum": 1,
    "hideHardwareSpecs": false,
    "memoryGiB": 64,
    "name": "ml.g4dn.4xlarge",
    "vcpuNum": 16
   },
   {
    "_defaultOrder": 32,
    "_isFastLaunch": false,
    "category": "Accelerated computing",
    "gpuNum": 1,
    "hideHardwareSpecs": false,
    "memoryGiB": 128,
    "name": "ml.g4dn.8xlarge",
    "vcpuNum": 32
   },
   {
    "_defaultOrder": 33,
    "_isFastLaunch": false,
    "category": "Accelerated computing",
    "gpuNum": 4,
    "hideHardwareSpecs": false,
    "memoryGiB": 192,
    "name": "ml.g4dn.12xlarge",
    "vcpuNum": 48
   },
   {
    "_defaultOrder": 34,
    "_isFastLaunch": false,
    "category": "Accelerated computing",
    "gpuNum": 1,
    "hideHardwareSpecs": false,
    "memoryGiB": 256,
    "name": "ml.g4dn.16xlarge",
    "vcpuNum": 64
   },
   {
    "_defaultOrder": 35,
    "_isFastLaunch": false,
    "category": "Accelerated computing",
    "gpuNum": 1,
    "hideHardwareSpecs": false,
    "memoryGiB": 61,
    "name": "ml.p3.2xlarge",
    "vcpuNum": 8
   },
   {
    "_defaultOrder": 36,
    "_isFastLaunch": false,
    "category": "Accelerated computing",
    "gpuNum": 4,
    "hideHardwareSpecs": false,
    "memoryGiB": 244,
    "name": "ml.p3.8xlarge",
    "vcpuNum": 32
   },
   {
    "_defaultOrder": 37,
    "_isFastLaunch": false,
    "category": "Accelerated computing",
    "gpuNum": 8,
    "hideHardwareSpecs": false,
    "memoryGiB": 488,
    "name": "ml.p3.16xlarge",
    "vcpuNum": 64
   },
   {
    "_defaultOrder": 38,
    "_isFastLaunch": false,
    "category": "Accelerated computing",
    "gpuNum": 8,
    "hideHardwareSpecs": false,
    "memoryGiB": 768,
    "name": "ml.p3dn.24xlarge",
    "vcpuNum": 96
   },
   {
    "_defaultOrder": 39,
    "_isFastLaunch": false,
    "category": "Memory Optimized",
    "gpuNum": 0,
    "hideHardwareSpecs": false,
    "memoryGiB": 16,
    "name": "ml.r5.large",
    "vcpuNum": 2
   },
   {
    "_defaultOrder": 40,
    "_isFastLaunch": false,
    "category": "Memory Optimized",
    "gpuNum": 0,
    "hideHardwareSpecs": false,
    "memoryGiB": 32,
    "name": "ml.r5.xlarge",
    "vcpuNum": 4
   },
   {
    "_defaultOrder": 41,
    "_isFastLaunch": false,
    "category": "Memory Optimized",
    "gpuNum": 0,
    "hideHardwareSpecs": false,
    "memoryGiB": 64,
    "name": "ml.r5.2xlarge",
    "vcpuNum": 8
   },
   {
    "_defaultOrder": 42,
    "_isFastLaunch": false,
    "category": "Memory Optimized",
    "gpuNum": 0,
    "hideHardwareSpecs": false,
    "memoryGiB": 128,
    "name": "ml.r5.4xlarge",
    "vcpuNum": 16
   },
   {
    "_defaultOrder": 43,
    "_isFastLaunch": false,
    "category": "Memory Optimized",
    "gpuNum": 0,
    "hideHardwareSpecs": false,
    "memoryGiB": 256,
    "name": "ml.r5.8xlarge",
    "vcpuNum": 32
   },
   {
    "_defaultOrder": 44,
    "_isFastLaunch": false,
    "category": "Memory Optimized",
    "gpuNum": 0,
    "hideHardwareSpecs": false,
    "memoryGiB": 384,
    "name": "ml.r5.12xlarge",
    "vcpuNum": 48
   },
   {
    "_defaultOrder": 45,
    "_isFastLaunch": false,
    "category": "Memory Optimized",
    "gpuNum": 0,
    "hideHardwareSpecs": false,
    "memoryGiB": 512,
    "name": "ml.r5.16xlarge",
    "vcpuNum": 64
   },
   {
    "_defaultOrder": 46,
    "_isFastLaunch": false,
    "category": "Memory Optimized",
    "gpuNum": 0,
    "hideHardwareSpecs": false,
    "memoryGiB": 768,
    "name": "ml.r5.24xlarge",
    "vcpuNum": 96
   },
   {
    "_defaultOrder": 47,
    "_isFastLaunch": false,
    "category": "Accelerated computing",
    "gpuNum": 1,
    "hideHardwareSpecs": false,
    "memoryGiB": 16,
    "name": "ml.g5.xlarge",
    "vcpuNum": 4
   },
   {
    "_defaultOrder": 48,
    "_isFastLaunch": false,
    "category": "Accelerated computing",
    "gpuNum": 1,
    "hideHardwareSpecs": false,
    "memoryGiB": 32,
    "name": "ml.g5.2xlarge",
    "vcpuNum": 8
   },
   {
    "_defaultOrder": 49,
    "_isFastLaunch": false,
    "category": "Accelerated computing",
    "gpuNum": 1,
    "hideHardwareSpecs": false,
    "memoryGiB": 64,
    "name": "ml.g5.4xlarge",
    "vcpuNum": 16
   },
   {
    "_defaultOrder": 50,
    "_isFastLaunch": false,
    "category": "Accelerated computing",
    "gpuNum": 1,
    "hideHardwareSpecs": false,
    "memoryGiB": 128,
    "name": "ml.g5.8xlarge",
    "vcpuNum": 32
   },
   {
    "_defaultOrder": 51,
    "_isFastLaunch": false,
    "category": "Accelerated computing",
    "gpuNum": 1,
    "hideHardwareSpecs": false,
    "memoryGiB": 256,
    "name": "ml.g5.16xlarge",
    "vcpuNum": 64
   },
   {
    "_defaultOrder": 52,
    "_isFastLaunch": false,
    "category": "Accelerated computing",
    "gpuNum": 4,
    "hideHardwareSpecs": false,
    "memoryGiB": 192,
    "name": "ml.g5.12xlarge",
    "vcpuNum": 48
   },
   {
    "_defaultOrder": 53,
    "_isFastLaunch": false,
    "category": "Accelerated computing",
    "gpuNum": 4,
    "hideHardwareSpecs": false,
    "memoryGiB": 384,
    "name": "ml.g5.24xlarge",
    "vcpuNum": 96
   },
   {
    "_defaultOrder": 54,
    "_isFastLaunch": false,
    "category": "Accelerated computing",
    "gpuNum": 8,
    "hideHardwareSpecs": false,
    "memoryGiB": 768,
    "name": "ml.g5.48xlarge",
    "vcpuNum": 192
   },
   {
    "_defaultOrder": 55,
    "_isFastLaunch": false,
    "category": "Accelerated computing",
    "gpuNum": 8,
    "hideHardwareSpecs": false,
    "memoryGiB": 1152,
    "name": "ml.p4d.24xlarge",
    "vcpuNum": 96
   },
   {
    "_defaultOrder": 56,
    "_isFastLaunch": false,
    "category": "Accelerated computing",
    "gpuNum": 8,
    "hideHardwareSpecs": false,
    "memoryGiB": 1152,
    "name": "ml.p4de.24xlarge",
    "vcpuNum": 96
   }
  ],
  "kernelspec": {
   "display_name": "Python 3 (Data Science 3.0)",
   "language": "python",
   "name": "python3__SAGEMAKER_INTERNAL__arn:aws:sagemaker:us-east-1:081325390199:image/sagemaker-data-science-310-v1"
  },
  "language_info": {
   "codemirror_mode": {
    "name": "ipython",
    "version": 3
   },
   "file_extension": ".py",
   "mimetype": "text/x-python",
   "name": "python",
   "nbconvert_exporter": "python",
   "pygments_lexer": "ipython3",
   "version": "3.10.6"
  }
 },
 "nbformat": 4,
 "nbformat_minor": 5
}
