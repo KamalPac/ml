import spacy
from spacy import displacy
from collections import Counter
import pandas as pd
#import en_core_web_sm
spacy.cli.download("en_core_web_sm")
#nlp = en_core_web_sm.load()
nlp = spacy.load("en_core_web_sm")
